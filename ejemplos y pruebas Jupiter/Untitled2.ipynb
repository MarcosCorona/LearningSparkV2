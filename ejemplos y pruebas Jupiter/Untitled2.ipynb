{
 "cells": [
  {
   "cell_type": "code",
   "execution_count": 1,
   "id": "f24f2b45",
   "metadata": {},
   "outputs": [],
   "source": [
    "import sys"
   ]
  },
  {
   "cell_type": "code",
   "execution_count": 2,
   "id": "3fcea963",
   "metadata": {},
   "outputs": [],
   "source": [
    "from pyspark.sql import SparkSession"
   ]
  },
  {
   "cell_type": "code",
   "execution_count": 1,
   "id": "b860c8ce",
   "metadata": {},
   "outputs": [],
   "source": [
    "from pyspark.sql.functions import count"
   ]
  },
  {
   "cell_type": "code",
   "execution_count": 43,
   "id": "c529f762",
   "metadata": {
    "scrolled": true
   },
   "outputs": [
    {
     "name": "stdout",
     "output_type": "stream",
     "text": [
      "+-----+------+-----+\n",
      "|State|Color |Total|\n",
      "+-----+------+-----+\n",
      "|CA   |Yellow|1807 |\n",
      "|WA   |Green |1779 |\n",
      "|OR   |Orange|1743 |\n",
      "|TX   |Green |1737 |\n",
      "|TX   |Red   |1725 |\n",
      "|CA   |Green |1723 |\n",
      "|CO   |Yellow|1721 |\n",
      "|CA   |Brown |1718 |\n",
      "|CO   |Green |1713 |\n",
      "|NV   |Orange|1712 |\n",
      "|TX   |Yellow|1703 |\n",
      "|NV   |Green |1698 |\n",
      "|AZ   |Brown |1698 |\n",
      "|WY   |Green |1695 |\n",
      "|CO   |Blue  |1695 |\n",
      "|NM   |Red   |1690 |\n",
      "|AZ   |Orange|1689 |\n",
      "|NM   |Yellow|1688 |\n",
      "|NM   |Brown |1687 |\n",
      "|UT   |Orange|1684 |\n",
      "|NM   |Green |1682 |\n",
      "|UT   |Red   |1680 |\n",
      "|AZ   |Green |1676 |\n",
      "|NV   |Yellow|1675 |\n",
      "|NV   |Blue  |1673 |\n",
      "|WA   |Red   |1671 |\n",
      "|WY   |Red   |1670 |\n",
      "|WA   |Brown |1669 |\n",
      "|NM   |Orange|1665 |\n",
      "|WY   |Blue  |1664 |\n",
      "|WA   |Yellow|1663 |\n",
      "|WA   |Orange|1658 |\n",
      "|CA   |Orange|1657 |\n",
      "|NV   |Brown |1657 |\n",
      "|CA   |Red   |1656 |\n",
      "|CO   |Brown |1656 |\n",
      "|UT   |Blue  |1655 |\n",
      "|AZ   |Yellow|1654 |\n",
      "|TX   |Orange|1652 |\n",
      "|AZ   |Red   |1648 |\n",
      "|OR   |Blue  |1646 |\n",
      "|OR   |Red   |1645 |\n",
      "|UT   |Yellow|1645 |\n",
      "|CO   |Orange|1642 |\n",
      "|TX   |Brown |1641 |\n",
      "|NM   |Blue  |1638 |\n",
      "|AZ   |Blue  |1636 |\n",
      "|OR   |Green |1634 |\n",
      "|UT   |Brown |1631 |\n",
      "|WY   |Yellow|1626 |\n",
      "|WA   |Blue  |1625 |\n",
      "|CO   |Red   |1624 |\n",
      "|OR   |Brown |1621 |\n",
      "|OR   |Yellow|1614 |\n",
      "|TX   |Blue  |1614 |\n",
      "|NV   |Red   |1610 |\n",
      "|CA   |Blue  |1603 |\n",
      "|WY   |Orange|1595 |\n",
      "|UT   |Green |1591 |\n",
      "|WY   |Brown |1532 |\n",
      "+-----+------+-----+\n",
      "\n",
      "Total Rows = 60\n",
      "+-----+------+-----+\n",
      "|State|Color |Total|\n",
      "+-----+------+-----+\n",
      "|CA   |Yellow|1807 |\n",
      "|CA   |Green |1723 |\n",
      "|CA   |Brown |1718 |\n",
      "|CA   |Orange|1657 |\n",
      "|CA   |Red   |1656 |\n",
      "|CA   |Blue  |1603 |\n",
      "+-----+------+-----+\n",
      "\n"
     ]
    }
   ],
   "source": [
    "import sys\n",
    "from pyspark.sql import SparkSession\n",
    "from pyspark.sql.functions import count\n",
    "if __name__ == \"__main__\":\n",
    "    if len(sys.argv) == 2:\n",
    "        print(\"Usage: mnmcount C:/Users/marcos.corona/mnm_dataset.csv\", file=sys.stderr)\n",
    "        sys.exit()\n",
    "        \n",
    "    spark = (SparkSession\n",
    "        .builder\n",
    "        .appName(\"PythonMnMCount\")\n",
    "        .getOrCreate())\n",
    "    \n",
    "    mnm_file = sys.argv[1]\n",
    "    \n",
    "    mnm_df = (spark.read.format(\"csv\")\n",
    "         .option(\"header\",\"true\")\n",
    "         .option(\"inferSchema\",\"true\")\n",
    "         .load(mnm_file))\n",
    "    \n",
    "    count_mnm_df = (mnm_df\n",
    "         .select(\"State\",\"Color\",\"Count\")\n",
    "         .groupBy(\"State\",\"Color\")\n",
    "         .agg(count(\"Count\").alias(\"Total\"))\n",
    "         .orderBy(\"Total\", ascending=False))\n",
    "    \n",
    "    count_mnm_df.show(n=60,truncate=False)\n",
    "    \n",
    "    print(\"Total Rows = %d\" % (count_mnm_df.count()))\n",
    "    \n",
    "    ca_count_mnm_df = (mnm_df\n",
    "          .select(\"State\", \"Color\", \"Count\")\n",
    "          .where(mnm_df.State == \"CA\")\n",
    "          .groupBy(\"State\", \"Color\")\n",
    "          .agg(count(\"Count\").alias(\"Total\"))\n",
    "          .orderBy(\"Total\", ascending=False))\n",
    "    \n",
    "    ca_count_mnm_df.show(n=10, truncate=False)\n",
    "\n",
    "    spark.stop()\n",
    "    "
   ]
  },
  {
   "cell_type": "code",
   "execution_count": 59,
   "id": "af3254dc",
   "metadata": {
    "scrolled": true
   },
   "outputs": [
    {
     "ename": "SyntaxError",
     "evalue": "invalid syntax (Temp/ipykernel_17476/2722414577.py, line 4)",
     "output_type": "error",
     "traceback": [
      "\u001b[1;36m  File \u001b[1;32m\"C:\\Users\\MARCOS~1.COR\\AppData\\Local\\Temp/ipykernel_17476/2722414577.py\"\u001b[1;36m, line \u001b[1;32m4\u001b[0m\n\u001b[1;33m    object MnMcount {\u001b[0m\n\u001b[1;37m           ^\u001b[0m\n\u001b[1;31mSyntaxError\u001b[0m\u001b[1;31m:\u001b[0m invalid syntax\n"
     ]
    }
   ],
   "source": [
    "package main.scala.chapter2\n",
    "import org.apache.spark.sql.SparkSession\n",
    "import org.apache.spark.sql.functions._\n",
    "/**\n",
    " * Usage: MnMcount <mnm_file_dataset>\n",
    " */\n",
    "object MnMcount {\n",
    "def main(args: Array[String]) {\n",
    " val spark = SparkSession\n",
    "   .builder\n",
    "   .appName(\"MnMCount\")\n",
    "   .getOrCreate()\n",
    " if (args.length < 1) {\n",
    "   print(\"Usage: MnMcount <mnm_file_dataset>\")\n",
    "   sys.exit(1)\n",
    " }\n",
    " // Get the M&M data set filename\n",
    " val mnmFile = args(0)\n",
    "  // Read the file into a Spark DataFrame\n",
    " val mnmDF = spark.read.format(\"csv\")\n",
    "   .option(\"header\", \"true\")\n",
    "   .option(\"inferSchema\", \"true\")\n",
    "   .load(mnmFile)\n",
    " // Aggregate counts of all colors and groupBy() State and Color\n",
    " // orderBy() in descending order\n",
    " val countMnMDF = mnmDF\n",
    "   .select(\"State\", \"Color\", \"Count\")\n",
    "   .groupBy(\"State\", \"Color\")\n",
    "   .agg(count(\"Count\").alias(\"Total\"))\n",
    " .orderBy(desc(\"Total\"))\n",
    " // Show the resulting aggregations for all the states and colors\n",
    " countMnMDF.show(60)\n",
    " println(s\"Total Rows = ${countMnMDF.count()}\")\n",
    " println()\n",
    " // Find the aggregate counts for California by filtering\n",
    " val caCountMnMDF = mnmDF\n",
    "   .select(\"State\", \"Color\", \"Count\")\n",
    "   .where(col(\"State\") === \"CA\")\n",
    "   .groupBy(\"State\", \"Color\")\n",
    "   .agg(count(\"Count\").alias(\"Total\"))\n",
    "   .orderBy(desc(\"Total\"))\n",
    " // Show the resulting aggregations for California\n",
    " caCountMnMDF.show(10)\n",
    " // Stop the SparkSession\n",
    " spark.stop()\n",
    "}\n",
    "}"
   ]
  },
  {
   "cell_type": "markdown",
   "id": "52b84bf9",
   "metadata": {},
   "source": [
    "    "
   ]
  },
  {
   "cell_type": "code",
   "execution_count": 53,
   "id": "e48e75a4",
   "metadata": {},
   "outputs": [
    {
     "ename": "SyntaxError",
     "evalue": "invalid syntax (Temp/ipykernel_17476/3675957400.py, line 1)",
     "output_type": "error",
     "traceback": [
      "\u001b[1;36m  File \u001b[1;32m\"C:\\Users\\MARCOS~1.COR\\AppData\\Local\\Temp/ipykernel_17476/3675957400.py\"\u001b[1;36m, line \u001b[1;32m1\u001b[0m\n\u001b[1;33m    name := \"main/scala/chapter2\"\u001b[0m\n\u001b[1;37m                                 ^\u001b[0m\n\u001b[1;31mSyntaxError\u001b[0m\u001b[1;31m:\u001b[0m invalid syntax\n"
     ]
    }
   ],
   "source": []
  },
  {
   "cell_type": "code",
   "execution_count": null,
   "id": "3aa09cea",
   "metadata": {},
   "outputs": [],
   "source": []
  }
 ],
 "metadata": {
  "kernelspec": {
   "display_name": "Python 3 (ipykernel)",
   "language": "python",
   "name": "python3"
  },
  "language_info": {
   "codemirror_mode": {
    "name": "ipython",
    "version": 3
   },
   "file_extension": ".py",
   "mimetype": "text/x-python",
   "name": "python",
   "nbconvert_exporter": "python",
   "pygments_lexer": "ipython3",
   "version": "3.9.7"
  }
 },
 "nbformat": 4,
 "nbformat_minor": 5
}
