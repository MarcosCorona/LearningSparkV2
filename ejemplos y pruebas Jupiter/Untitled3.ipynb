{
 "cells": [
  {
   "cell_type": "code",
   "execution_count": 12,
   "id": "6c86e6fb",
   "metadata": {},
   "outputs": [],
   "source": [
    "#key merits and benefits\n",
    "#Aggregating all the ages foreach name, group by name,\n",
    "#and then average the ages.\n",
    "\n",
    "#LOW LEVEL:\n",
    "\n",
    "#create an rdd of tuples(name,age)\n",
    "\n",
    "dataRDD = sc.parallelize([(\"Brooke\",20),(\"Denny\",31),(\"Jules\",30),(\"TD\",35),(\"Brooke\",25)])\n",
    "\n",
    "#Use map and reduceByKey transformations with their lambda\n",
    "#expressions to aggregate and then compute average.\n",
    "\n",
    "agesRDD = (dataRDD\n",
    "    .map(lambda x: (x[0],(x[1],1)))\n",
    "    .reduceByKey(lambda x, y: (x[0] + y[0], x[1] + y[1]))\n",
    "    .map(lambda x: (x[0],x[1][0]/x[1][1])))\n",
    "\n"
   ]
  },
  {
   "cell_type": "code",
   "execution_count": 18,
   "id": "a0db275d",
   "metadata": {},
   "outputs": [
    {
     "name": "stdout",
     "output_type": "stream",
     "text": [
      "DataFrame[name: string, avg(age): double]\n"
     ]
    }
   ],
   "source": [
    "#HIGH LEVEL\n",
    "from pyspark.sql import SparkSession\n",
    "from pyspark.sql.functions import avg\n",
    "# Create a DataFrame using SparkSession\n",
    "spark = (SparkSession\n",
    " .builder\n",
    " .appName(\"AuthorsAges\")\n",
    " .getOrCreate())\n",
    "# Create a DataFrame \n",
    "data_df = spark.createDataFrame([(\"Brooke\", 20), (\"Denny\", 31), (\"Jules\", 30), (\"TD\", 35), (\"Brooke\", 25)], [\"name\", \"age\"])\n",
    "# Group the same names together, aggregate their ages, and compute an average\n",
    "avg_df = data_df.groupBy(\"name\").agg(avg(\"age\"))\n",
    "# Show the results of the final execution\n",
    "print(avg_df)"
   ]
  },
  {
   "cell_type": "code",
   "execution_count": 20,
   "id": "5f13d29c",
   "metadata": {},
   "outputs": [
    {
     "name": "stdout",
     "output_type": "stream",
     "text": [
      "DataFrame[name: string, avg(age): double]\n"
     ]
    }
   ],
   "source": []
  },
  {
   "cell_type": "code",
   "execution_count": null,
   "id": "c30fd804",
   "metadata": {},
   "outputs": [],
   "source": []
  }
 ],
 "metadata": {
  "kernelspec": {
   "display_name": "Python 3 (ipykernel)",
   "language": "python",
   "name": "python3"
  },
  "language_info": {
   "codemirror_mode": {
    "name": "ipython",
    "version": 3
   },
   "file_extension": ".py",
   "mimetype": "text/x-python",
   "name": "python",
   "nbconvert_exporter": "python",
   "pygments_lexer": "ipython3",
   "version": "3.9.7"
  }
 },
 "nbformat": 4,
 "nbformat_minor": 5
}
