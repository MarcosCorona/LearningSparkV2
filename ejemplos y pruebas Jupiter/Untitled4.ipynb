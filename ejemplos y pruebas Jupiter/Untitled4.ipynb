{
 "cells": [
  {
   "cell_type": "code",
   "execution_count": 1,
   "id": "25209eaf",
   "metadata": {},
   "outputs": [
    {
     "data": {
      "text/plain": [
       "Intitializing Scala interpreter ..."
      ]
     },
     "metadata": {},
     "output_type": "display_data"
    },
    {
     "data": {
      "text/plain": [
       "Spark Web UI available at http://L2203083.bosonit.local:4041\n",
       "SparkContext available as 'sc' (version = 3.0.3, master = local[*], app id = local-1651138007133)\n",
       "SparkSession available as 'spark'\n"
      ]
     },
     "metadata": {},
     "output_type": "display_data"
    },
    {
     "ename": "<console>",
     "evalue": "3: error: ';' expected but 'import' found.\r",
     "output_type": "error",
     "traceback": [
      "<console>:3: error: ';' expected but 'import' found.\r",
      "       scala> import org.apache.spark.sql.types._\r",
      "              ^\r",
      "<console>:5: error: ';' expected but 'val' found.\r",
      "       scala> val nameTypes = StringType\r",
      "              ^\r",
      "<console>:6: error: ';' expected but '=' found.\r",
      "       nameTypes: org.apache.spark.sql.types.StringType.type = StringType\r",
      "                                                             ^\r",
      "<console>:7: error: ';' expected but 'val' found.\r",
      "       scala> val firstName = nameTypes\r",
      "              ^\r",
      "<console>:8: error: ';' expected but '=' found.\r",
      "       firstName: org.apache.spark.sql.types.StringType.type = StringType\r",
      "                                                             ^\r",
      "<console>:9: error: ';' expected but 'val' found.\r",
      "       scala> val lastName = nameTypes\r",
      "              ^\r",
      "<console>:10: error: ';' expected but '=' found.\r",
      "       lastName: org.apache.spark.sql.types.StringType.type = StringType\r",
      "                                                            ^\r",
      ""
     ]
    }
   ],
   "source": [
    "$SPARK_HOME/bin/spark-shell\n",
    "scala> import org.apache.spark.sql.types._\n",
    "import org.apache.spark.sql.types._\n",
    "scala> val nameTypes = StringType\n",
    "nameTypes: org.apache.spark.sql.types.StringType.type = StringType\n",
    "scala> val firstName = nameTypes\n",
    "firstName: org.apache.spark.sql.types.StringType.type = StringType\n",
    "scala> val lastName = nameTypes\n",
    "lastName: org.apache.spark.sql.types.StringType.type = StringType"
   ]
  },
  {
   "cell_type": "code",
   "execution_count": null,
   "id": "3db5d6f7",
   "metadata": {},
   "outputs": [],
   "source": []
  }
 ],
 "metadata": {
  "kernelspec": {
   "display_name": "spylon-kernel",
   "language": "scala",
   "name": "spylon-kernel"
  },
  "language_info": {
   "codemirror_mode": "text/x-scala",
   "file_extension": ".scala",
   "help_links": [
    {
     "text": "MetaKernel Magics",
     "url": "https://metakernel.readthedocs.io/en/latest/source/README.html"
    }
   ],
   "mimetype": "text/x-scala",
   "name": "scala",
   "pygments_lexer": "scala",
   "version": "0.4.1"
  }
 },
 "nbformat": 4,
 "nbformat_minor": 5
}
